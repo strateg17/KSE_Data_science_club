{
  "nbformat": 4,
  "nbformat_minor": 0,
  "metadata": {
    "colab": {
      "name": "parse_exapmple.ipynb",
      "provenance": [],
      "collapsed_sections": []
    },
    "kernelspec": {
      "name": "python3",
      "display_name": "Python 3"
    }
  },
  "cells": [
    {
      "cell_type": "code",
      "metadata": {
        "id": "LXtZ-Nr0oBVz"
      },
      "source": [
        "# бібліотеки для збору даних:\r\n",
        "import requests # відпрвляє запит, отримує у відповідь об'єкт сторінки\r\n",
        "from bs4 import BeautifulSoup # імітує оточення браузера "
      ],
      "execution_count": null,
      "outputs": []
    },
    {
      "cell_type": "code",
      "metadata": {
        "id": "griGwKVLky52"
      },
      "source": [
        "# зберігаємо посилання на сторінку, звідки будемо збирати дані\r\n",
        "link = 'https://iportal.rada.gov.ua/news/Rstr_nd_9'"
      ],
      "execution_count": null,
      "outputs": []
    },
    {
      "cell_type": "code",
      "metadata": {
        "id": "w26kZwKDnC5A"
      },
      "source": [
        "# відправляємо запит за допомогою requests\r\n",
        "registration_request = requests.get(link)\r\n",
        "print(registration_request)"
      ],
      "execution_count": null,
      "outputs": []
    },
    {
      "cell_type": "code",
      "metadata": {
        "id": "A_E4vNcksfH4"
      },
      "source": [
        "# в отриманого об'єкту беремо тільки текст\r\n",
        "registration_site_text = registration_request.text\r\n",
        "registration_site_text"
      ],
      "execution_count": null,
      "outputs": []
    },
    {
      "cell_type": "code",
      "metadata": {
        "id": "JTcp4mnRobCn"
      },
      "source": [
        "# передаємо текст сторінки бібліотеці BeautifulSoup  \r\n",
        "registration_soup = BeautifulSoup(registration_site_text)\r\n",
        "print(registration_soup)"
      ],
      "execution_count": null,
      "outputs": []
    },
    {
      "cell_type": "code",
      "metadata": {
        "colab": {
          "base_uri": "https://localhost:8080/"
        },
        "id": "n_xYjn1yAnKO",
        "outputId": "b02fe1a6-c6a0-47e1-d5ad-a277ee9044d4"
      },
      "source": [
        "# за допомогою BeautifulSoup шукаємо на сторінці всі співпадіння по селектору\r\n",
        "registraton_links_elements = registration_soup.select('#list_archive div.news_item > span.details > a')\r\n",
        "print(registraton_links_elements)"
      ],
      "execution_count": null,
      "outputs": [
        {
          "output_type": "stream",
          "text": [
            "[<a href=\"http://w1.c1.rada.gov.ua/pls/radan_gs09/ns_reg?g_id=9343\">посилання</a>, <a href=\"http://w1.c1.rada.gov.ua/pls/radan_gs09/ns_reg?g_id=9257\">посилання</a>, <a href=\"http://w1.c1.rada.gov.ua/pls/radan_gs09/ns_reg?g_id=9214\">посилання</a>, <a href=\"http://w1.c1.rada.gov.ua/pls/radan_gs09/ns_reg?g_id=9163\">посилання</a>, <a href=\"http://w1.c1.rada.gov.ua/pls/radan_gs09/ns_reg?g_id=9114\">посилання</a>, <a href=\"http://w1.c1.rada.gov.ua/pls/radan_gs09/ns_reg?g_id=9040\">посилання</a>, <a href=\"http://w1.c1.rada.gov.ua/pls/radan_gs09/ns_reg?g_id=9007\">посилання</a>, <a href=\"http://w1.c1.rada.gov.ua/pls/radan_gs09/ns_reg?g_id=8905\">посилання</a>, <a href=\"http://w1.c1.rada.gov.ua/pls/radan_gs09/ns_reg?g_id=8814\">посилання</a>, <a href=\"http://w1.c1.rada.gov.ua/pls/radan_gs09/ns_reg?g_id=8730\">посилання</a>, <a href=\"http://w1.c1.rada.gov.ua/pls/radan_gs09/ns_reg?g_id=8664\">посилання</a>, <a href=\"http://w1.c1.rada.gov.ua/pls/radan_gs09/ns_reg?g_id=8604\">посилання</a>, <a href=\"http://w1.c1.rada.gov.ua/pls/radan_gs09/ns_reg?g_id=8477\">посилання</a>, <a href=\"http://w1.c1.rada.gov.ua/pls/radan_gs09/ns_reg?g_id=8418\">посилання</a>, <a href=\"http://w1.c1.rada.gov.ua/pls/radan_gs09/ns_reg?g_id=8370\">посилання</a>, <a href=\"http://w1.c1.rada.gov.ua/pls/radan_gs09/ns_reg?g_id=8300\">посилання</a>, <a href=\"http://w1.c1.rada.gov.ua/pls/radan_gs09/ns_reg?g_id=8192\">посилання</a>, <a href=\"http://w1.c1.rada.gov.ua/pls/radan_gs09/ns_reg?g_id=8099\">посилання</a>, <a href=\"http://w1.c1.rada.gov.ua/pls/radan_gs09/ns_reg?g_id=8060\">посилання</a>]\n"
          ],
          "name": "stdout"
        }
      ]
    },
    {
      "cell_type": "code",
      "metadata": {
        "id": "Suc8qsqjG4CA"
      },
      "source": [
        "# у кожного посилання беремо елемент href, резульльтат зберігаємо у завчасно створений пустий список\r\n",
        "urls = []\r\n",
        "\r\n",
        "for link in registraton_links_elements: \r\n",
        "    href = link.get('href')\r\n",
        "    urls.append(href)"
      ],
      "execution_count": null,
      "outputs": []
    },
    {
      "cell_type": "markdown",
      "metadata": {
        "id": "g-CVkeY0-CyD"
      },
      "source": [
        "**Приклад для одного засідання ВР **"
      ]
    },
    {
      "cell_type": "code",
      "metadata": {
        "id": "Ctb2Hmo7-QoE"
      },
      "source": [
        "# парсимо сторінку з поіменною реєстрацією депутатів за 5 лютого\r\n",
        "\r\n",
        "url = 'http://w1.c1.rada.gov.ua/pls/radan_gs09/ns_reg?g_id=9343'\r\n",
        "registration_panel_page= requests.get(url)\r\n",
        "registration_panel_page_text = registration_panel_page.text\r\n",
        "registration_panel_soup = BeautifulSoup(registration_panel_page_text)"
      ],
      "execution_count": null,
      "outputs": []
    },
    {
      "cell_type": "code",
      "metadata": {
        "id": "nUv0eHge-TMr"
      },
      "source": [
        "# за допомогою BeautifulSoup шукаємо на сторінці всі співпадіння по селектору\r\n",
        "\r\n",
        "date_element = registration_panel_soup.select_one('div.head_gol')\r\n",
        "# print(date_element)\r\n",
        "date = date_element.get_text()\r\n",
        "# print(date)"
      ],
      "execution_count": null,
      "outputs": []
    },
    {
      "cell_type": "code",
      "metadata": {
        "id": "AC2SX7X15E7x"
      },
      "source": [
        "# готуємо пусті списки для зберігання імен депутатів та дат\r\n",
        "\r\n",
        "deputy_names = []\r\n",
        "dates = []"
      ],
      "execution_count": null,
      "outputs": []
    },
    {
      "cell_type": "code",
      "metadata": {
        "id": "ZvOBvhvz7E-n"
      },
      "source": [
        "# за допомогою BeautifulSoup шукаємо на сторінці всі співпадіння по селектору.\r\n",
        "\r\n",
        "deputy_elements = registration_panel_soup.select('#PlsqlBody > ul > li:nth-of-type(1) .frd li')\r\n",
        "\r\n",
        "# з кожної знайденої комірки беремо текст. В цьому ж циклі накопичуємо дату.  \r\n",
        "for deputy in deputy_elements:\r\n",
        "  deputy_name = deputy.text\r\n",
        "  deputy_names.append(deputy_name)\r\n",
        "  dates.append(date) # повторюємо одну і ту саму дату для кожного депутата"
      ],
      "execution_count": null,
      "outputs": []
    },
    {
      "cell_type": "markdown",
      "metadata": {
        "id": "DvrhNU4OpRq1"
      },
      "source": [
        "Повторюємо те саме, але вже для всіх посилань, які ми отримали зі сторінки. Тобто робимо цикл, де для кожного посилання зі списку посилань повторюємо ті самі дії\r\n"
      ]
    },
    {
      "cell_type": "code",
      "metadata": {
        "id": "huAR0LPZNDch"
      },
      "source": [
        "deputy_names = []\r\n",
        "dates = []\r\n",
        "\r\n",
        "for url in urls:\r\n",
        "  registration_panel_page = requests.get(url)\r\n",
        "  registration_panel_page_text = registration_panel_page.text\r\n",
        "  registration_panel_soup = BeautifulSoup(registration_panel_page_text)\r\n",
        "  date_element = registration_panel_soup.select_one('div.head_gol')\r\n",
        "  date = date_element.get_text()\r\n",
        "\r\n",
        "  deputy_elements = registration_panel_soup.select('#PlsqlBody > ul > li:nth-of-type(1) .frd li')\r\n",
        "  for deputy in deputy_elements:\r\n",
        "    deputy_name = deputy.text\r\n",
        "    deputy_names.append(deputy_name)\r\n",
        "    dates.append(date)"
      ],
      "execution_count": null,
      "outputs": []
    },
    {
      "cell_type": "markdown",
      "metadata": {
        "id": "OCeRAhWGJEkm"
      },
      "source": [
        "Тепер нам потрібно з отриманих списків сформувати таблицю. для цього ми будемо використовувати бібліотеку pandas."
      ]
    },
    {
      "cell_type": "code",
      "metadata": {
        "id": "pEIjTtyw5lJS"
      },
      "source": [
        "# імпортуємо бібліотеку pandas для роботи з dataframe (таблицями) \r\n",
        "import pandas as pd\r\n",
        "\r\n",
        "# створюємо dataframe (таблицю) на основі зібраних списків; призначаємо назви колонок через параметр columns \r\n",
        "registration_panels_df = pd.DataFrame(list(zip(deputy_names, dates)), \r\n",
        "               columns = ['name_info', 'dates_info']) "
      ],
      "execution_count": null,
      "outputs": []
    },
    {
      "cell_type": "code",
      "metadata": {
        "colab": {
          "base_uri": "https://localhost:8080/",
          "height": 17
        },
        "id": "eIHzgtyROVDu",
        "outputId": "d28b73bf-72f9-4929-8b86-23c84ca69394"
      },
      "source": [
        "# імпортуємо бібліотеку files, яка дозволяє вивантажувати файли з колабу на комп'ютер\r\n",
        "from google.colab import files\r\n",
        "\r\n",
        "# таблицю зберігаємо у форматі Excel\r\n",
        "registration_panels_df.to_excel('registration_panels_df.xlsx')\r\n",
        "\r\n",
        "# завантажуємо створену Excel таблицю\r\n",
        "files.download('registration_panels_df.xlsx')"
      ],
      "execution_count": null,
      "outputs": [
        {
          "output_type": "display_data",
          "data": {
            "application/javascript": [
              "\n",
              "    async function download(id, filename, size) {\n",
              "      if (!google.colab.kernel.accessAllowed) {\n",
              "        return;\n",
              "      }\n",
              "      const div = document.createElement('div');\n",
              "      const label = document.createElement('label');\n",
              "      label.textContent = `Downloading \"${filename}\": `;\n",
              "      div.appendChild(label);\n",
              "      const progress = document.createElement('progress');\n",
              "      progress.max = size;\n",
              "      div.appendChild(progress);\n",
              "      document.body.appendChild(div);\n",
              "\n",
              "      const buffers = [];\n",
              "      let downloaded = 0;\n",
              "\n",
              "      const channel = await google.colab.kernel.comms.open(id);\n",
              "      // Send a message to notify the kernel that we're ready.\n",
              "      channel.send({})\n",
              "\n",
              "      for await (const message of channel.messages) {\n",
              "        // Send a message to notify the kernel that we're ready.\n",
              "        channel.send({})\n",
              "        if (message.buffers) {\n",
              "          for (const buffer of message.buffers) {\n",
              "            buffers.push(buffer);\n",
              "            downloaded += buffer.byteLength;\n",
              "            progress.value = downloaded;\n",
              "          }\n",
              "        }\n",
              "      }\n",
              "      const blob = new Blob(buffers, {type: 'application/binary'});\n",
              "      const a = document.createElement('a');\n",
              "      a.href = window.URL.createObjectURL(blob);\n",
              "      a.download = filename;\n",
              "      div.appendChild(a);\n",
              "      a.click();\n",
              "      div.remove();\n",
              "    }\n",
              "  "
            ],
            "text/plain": [
              "<IPython.core.display.Javascript object>"
            ]
          },
          "metadata": {
            "tags": []
          }
        },
        {
          "output_type": "display_data",
          "data": {
            "application/javascript": [
              "download(\"download_1c3a7e3b-e097-41da-9d03-37dd7183ec4e\", \"registration_panels_df.xlsx\", 151917)"
            ],
            "text/plain": [
              "<IPython.core.display.Javascript object>"
            ]
          },
          "metadata": {
            "tags": []
          }
        }
      ]
    }
  ]
}